{
  "metadata": {
    "kernelspec": {
      "name": "python",
      "display_name": "Python (Pyodide)",
      "language": "python"
    },
    "language_info": {
      "codemirror_mode": {
        "name": "python",
        "version": 3
      },
      "file_extension": ".py",
      "mimetype": "text/x-python",
      "name": "python",
      "nbconvert_exporter": "python",
      "pygments_lexer": "ipython3",
      "version": "3.8"
    }
  },
  "nbformat_minor": 5,
  "nbformat": 4,
  "cells": [
    {
      "id": "a3e46328-a61d-4647-bfdd-3ed9265008a4",
      "cell_type": "markdown",
      "source": "**Sistema bancário**",
      "metadata": {}
    },
    {
      "id": "ab52ba6e-4316-412c-b37a-60e35a20fe1d",
      "cell_type": "code",
      "source": "inicio = \"\"\"\n[1] Depositar \n[2] Sacar\n[3] Extrato\n[4] Sair\n\n\"\"\"\n\nsaldo = 0.0\nlimite = 500.0\nextrato = \"\"\nnumero_saques = 0\nlimite_saques = 3\n\ninicio = \"\"\"\n[1] Depositar\n[2] Sacar\n[3] Extrato\n[4] Sair\n=> \"\"\"\n\nwhile True:\n    opcao = input(inicio)\n\n    if opcao == \"1\":\n        valor = float(input('Informe o valor do depósito: '))\n\n        if valor > 0:\n            saldo += valor\n            extrato += f'Depósito: R$ {valor:.2f}\\n'\n        else:\n            print('Operação falhou. Valor informado inválido.')\n\n    elif opcao == \"2\":\n        valor = float(input('Informe o valor do saque: '))\n        excedeu_saldo = valor > saldo\n        excedeu_limite = valor > limite\n        excedeu_saques = numero_saques >= limite_saques\n\n        if excedeu_saldo:\n            print('Operação falhou. Saldo insuficiente.')\n        elif excedeu_limite:\n            print('Operação falhou. Limite excedido.')\n        elif excedeu_saques:\n            print('Operação falhou. Número de saques excedido.')\n        elif valor > 0:\n            saldo -= valor\n            extrato += f'Saque: R$ {valor:.2f}\\n'\n            numero_saques += 1\n        else:\n            print('Operação falhou. Valor informado inválido.')\n\n    elif opcao == \"3\":\n        print('\\n********** EXTRATO **********')\n        print('Não foram realizadas movimentações.' if not extrato else extrato)\n        print(f'\\nSaldo: R$ {saldo:.2f}')\n        print('******************************')\n\n    elif opcao == \"4\":\n        break\n\n    else:\n        print('Opção inválida, por favor selecione a opção desejada.')\n",
      "metadata": {
        "trusted": true
      },
      "outputs": [],
      "execution_count": null
    },
    {
      "id": "0b243c8e-4736-4fa0-8305-c2ac11913672",
      "cell_type": "code",
      "source": "",
      "metadata": {
        "trusted": true
      },
      "outputs": [],
      "execution_count": null
    }
  ]
}